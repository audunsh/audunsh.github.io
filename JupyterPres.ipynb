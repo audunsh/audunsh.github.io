{
 "cells": [
  {
   "cell_type": "markdown",
   "metadata": {
    "slideshow": {
     "slide_type": "slide"
    }
   },
   "source": []
  },
  {
   "cell_type": "markdown",
   "metadata": {
    "slideshow": {
     "slide_type": "slide"
    }
   },
   "source": [
    "<article>\n",
    "  <header>\n",
    "    <h1>Jupyter Notebook og JupyterHub ved Kjemisk Institutt</h1>\n",
    "    <h3>REAL undervisning, 16. august 2018</h3>\n",
    "      <p>Audun Skau Hansen <a href=\"mailto:a.s.hansen@kjemi.uio.no\">(a.s.hansen@kjemi.uio.no)</a></p>\n",
    "  </header>\n",
    "<img src=\"https://www.ntbinfo.no/data/images/00304/f6275cea-f278-4251-a592-ff9f54ba0352.jpg\"  width=\"300\" height=\"600\" align = \"right\">\n",
    "</article>"
   ]
  },
  {
   "cell_type": "markdown",
   "metadata": {
    "slideshow": {
     "slide_type": "slide"
    }
   },
   "source": [
    "# Innhold for økta:\n",
    "\n",
    "- Python\n",
    "- Jupyter Notebook\n",
    "- JupyterHub\n",
    "- Interaktivt eksempel, muligens litt \"hands-on\"\n",
    "\n",
    "<article>\n",
    "<img src=\"https://www.ntbinfo.no/data/images/00304/f6275cea-f278-4251-a592-ff9f54ba0352.jpg\"  width=\"300\" height=\"600\" align = \"right\">\n",
    "</article>"
   ]
  },
  {
   "cell_type": "markdown",
   "metadata": {
    "slideshow": {
     "slide_type": "slide"
    }
   },
   "source": [
    "<article>\n",
    "<img src=\"https://www.python.org/static/community_logos/python-logo-master-v3-TM.png\n",
    "\"  width=\"300\" height=\"600\" align=\"center\">\n",
    "</article>\n",
    "\n",
    "Litt om Python:\n",
    "- Et fleksibelt programmeringsspråk\n",
    "- Objektorientert \n",
    "- Interpretert\n",
    "- Tar sikte på enkelhet og lesbarhet\n",
    "- Mye brukt i forskning og utdanning:\n",
    "    - Visualisering (matplotlib, mayavi)\n",
    "    - Effektive beregninger (numpy, numba, tensorflow)\n",
    "    - Velutviklet modulsupport:\n",
    "        - Sympy (analytisk matematikk)\n",
    "        - Pandas (statistikkbehandling)\n",
    "        - Interface til andre språk (C++, Fortran)\n",
    "    - Spesialiserte implementasjoner er ofte lett tilgjengelig på nett\n",
    "\n",
    "\n",
    "<article>\n",
    "<img src=\"https://www.ntbinfo.no/data/images/00304/f6275cea-f278-4251-a592-ff9f54ba0352.jpg\"  width=\"300\" height=\"600\" align = \"right\">\n",
    "</article>"
   ]
  },
  {
   "cell_type": "markdown",
   "metadata": {
    "slideshow": {
     "slide_type": "slide"
    }
   },
   "source": [
    "\n",
    "# Jupyter Notebook\n",
    "\n",
    "- Dokument som forfattes, deles, konverteres til andre formater og mer.\n",
    "- Dokumenteditor/miljø for forskning, utvikling av kode og mer.\n",
    "- Nettapplikasjon (user interface, server)\n",
    "\n",
    "<body>\n",
    "<img src=\"https://preview.ibb.co/eea1vp/Screen_Shot_2018_08_15_at_13_23_12.png\" alt=\"Screen_Shot_2018_08_15_at_13_23_12\" border=\"0\">\n",
    "\n",
    "<img src=\"https://www.ntbinfo.no/data/images/00304/f6275cea-f278-4251-a592-ff9f54ba0352.jpg\"  width=\"300\" height=\"600\" align = \"right\">\n",
    "</body>"
   ]
  },
  {
   "cell_type": "markdown",
   "metadata": {
    "slideshow": {
     "slide_type": "slide"
    }
   },
   "source": [
    "## Interessante bruksområder \n",
    "\n",
    "\n",
    "<img src=\"https://oup.silverchair-cdn.com/oup/backfile/Content_public/Journal/bioinformatics/34/7/10.1093_bioinformatics_btx789/2/m_btx789f1.png?Expires=2147483647&Signature=Fcy3eptJIu27AoVV5wxCyUwt9T8CmyKlDmF~jnNdvADXUCaWw7vBbXb5bLnCAuB9RBEYkbJnHskppRPTohoidNDNsXQKR-FebHonQtGuJJr4Ml2e8oLeUxGJwrEYXBHjlNTLDn29bqDSZz81XesMPtspEm94iV2rM9u~TXzvoaE6OL~wQt2sapLXrCQz~-FrNOCLF1-jItW6FWGFlal746AJ6JcfyKGK0C3e~OfrX6qUy1HcXYHMxcuWGECfp26O85M~OCipLAP~HcerlO1z4P~FaxzGISuoXvMb-qAL3D30AnFxVLbKoxIMe8vNmeoLRJV389y5-xBXKsIVogN9CQ__&Key-Pair-Id=APKAIE5G5CRDK6RD3PGA\"  width=\"300\" height=\"600\">\n",
    "\n",
    "\n",
    "\n",
    "\n",
    "*\"(...) notebook makes data analysis easier to record, understand and reproduce.\"*\n",
    "<a href=\"https://www.nature.com/news/interactive-notebooks-sharing-the-code-1.16261\">Shen, Nature 515, 151–152 (06 November 2014)</a>\n",
    "\n",
    "<a href=\"https://github.com/jupyter/jupyter/wiki/A-gallery-of-interesting-Jupyter-Notebooks\">Lenke til eksempelnotebooks (lenke)</a>\n",
    "\n",
    "<body>\n",
    "<img src=\"https://www.ntbinfo.no/data/images/00304/f6275cea-f278-4251-a592-ff9f54ba0352.jpg\"  width=\"300\" height=\"600\" align = \"right\">\n",
    "</body>"
   ]
  },
  {
   "cell_type": "markdown",
   "metadata": {
    "slideshow": {
     "slide_type": "slide"
    }
   },
   "source": [
    "# Lær å bruke Jupyter Notebook\n",
    "\n",
    "<iframe width=\"560\" height=\"315\" src=\"https://www.youtube.com/embed/HW29067qVWk\" frameborder=\"0\" allow=\"autoplay;encrypted-media\" allowfullscreen></iframe>\n",
    "\n",
    "<a href=\"https://jupyter.readthedocs.io/en/latest/\">Readthedocs Overview (lenke)</a>\n",
    "\n",
    "<article>\n",
    "<img src=\"https://www.ntbinfo.no/data/images/00304/f6275cea-f278-4251-a592-ff9f54ba0352.jpg\"  width=\"300\" height=\"600\" align = \"right\">\n",
    "</article>"
   ]
  },
  {
   "cell_type": "markdown",
   "metadata": {
    "slideshow": {
     "slide_type": "slide"
    }
   },
   "source": [
    "# Lær å bruke Python\n",
    "\n",
    "<iframe width=\"560\" height=\"315\" src=\"https://www.youtube.com/embed/N4mEzFDjqtA\" frameborder=\"0\" allow=\"autoplay; encrypted-media\" allowfullscreen></iframe>\n",
    "\n",
    "<a href=\"https://python.readthedocs.io/en/latest/\">Readthedocs Overview (lenke)</a>\n",
    "\n",
    "<article>\n",
    "<img src=\"https://www.ntbinfo.no/data/images/00304/f6275cea-f278-4251-a592-ff9f54ba0352.jpg\"  width=\"300\" height=\"600\" align = \"right\">\n",
    "</article>"
   ]
  },
  {
   "attachments": {},
   "cell_type": "markdown",
   "metadata": {
    "slideshow": {
     "slide_type": "slide"
    }
   },
   "source": [
    "\n",
    "<article>\n",
    "<img src=\"https://jupyterhub.readthedocs.io/en/stable/_static/logo.png\"  width=\"300\" height=\"600\" align=\"center\"> \n",
    "</article>\n",
    "\n",
    "HUB:\n",
    "- Brukerhåndtering og autentisering\n",
    "- Spawner (lager notebooks til brukerne)\n",
    "    \n",
    "Med JupyterHub får studenter og undervisere:\n",
    "- tilgang til samme arbeidsmiljø (krever ikke installasjon, kun internett og browser)\n",
    "- kopier av de samme notebookene som kan brukes lokalt (og individuelt)\n",
    "\n",
    "\n",
    "<article>\n",
    "<img src=\"https://www.ntbinfo.no/data/images/00304/f6275cea-f278-4251-a592-ff9f54ba0352.jpg\"  width=\"300\" height=\"600\" align = \"right\">\n",
    "</article>"
   ]
  },
  {
   "attachments": {},
   "cell_type": "markdown",
   "metadata": {
    "slideshow": {
     "slide_type": "slide"
    }
   },
   "source": [
    "# JupyterHub oversikt\n",
    "\n",
    "<img src=\"https://preview.ibb.co/c1vFMU/Screen_Shot_2018_08_15_at_16_07_11.png\" alt=\"Screen_Shot_2018_08_15_at_16_07_11\" border=\"0\">\n",
    "\n",
    "\n",
    "<article>\n",
    "<img src=\"https://www.ntbinfo.no/data/images/00304/f6275cea-f278-4251-a592-ff9f54ba0352.jpg\"  width=\"300\" height=\"600\" align = \"right\">\n",
    "</article>"
   ]
  },
  {
   "attachments": {},
   "cell_type": "markdown",
   "metadata": {
    "slideshow": {
     "slide_type": "slide"
    }
   },
   "source": [
    "# JupyterHub oversikt : GitHub\n",
    "\n",
    "<img src=\"https://preview.ibb.co/cTKO89/Screen_Shot_2018_08_15_at_19_43_41.png\" alt=\"Screen_Shot_2018_08_15_at_19_43_41\" border=\"0\">\n",
    "\n",
    "<article>\n",
    "<img src=\"https://www.ntbinfo.no/data/images/00304/f6275cea-f278-4251-a592-ff9f54ba0352.jpg\"  width=\"300\" height=\"600\" align = \"right\">\n",
    "</article>"
   ]
  },
  {
   "cell_type": "markdown",
   "metadata": {
    "slideshow": {
     "slide_type": "slide"
    }
   },
   "source": [
    "## Andre nyttige ressurser\n",
    "\n",
    "Statisk html fra denne presentasjonen:\n",
    "\n",
    "https://audunsh.github.io/JupyterPres.slides.html\n",
    "\n",
    "Trinnvise instruksjoner for jupyterhub ved UiO:\n",
    "\n",
    "https://github.uio.no/CSE-KI/misc/blob/master/sop/jupyter-sop.pdf\n"
   ]
  },
  {
   "cell_type": "code",
   "execution_count": null,
   "metadata": {},
   "outputs": [],
   "source": []
  }
 ],
 "metadata": {
  "celltoolbar": "Slideshow",
  "kernelspec": {
   "display_name": "Python 3",
   "language": "python",
   "name": "python3"
  },
  "language_info": {
   "codemirror_mode": {
    "name": "ipython",
    "version": 3
   },
   "file_extension": ".py",
   "mimetype": "text/x-python",
   "name": "python",
   "nbconvert_exporter": "python",
   "pygments_lexer": "ipython3",
   "version": "3.6.5"
  }
 },
 "nbformat": 4,
 "nbformat_minor": 2
}
